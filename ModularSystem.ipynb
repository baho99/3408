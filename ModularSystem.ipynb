{
  "nbformat": 4,
  "nbformat_minor": 0,
  "metadata": {
    "colab": {
      "name": "ModularSystem.ipynb",
      "provenance": [],
      "collapsed_sections": [],
      "authorship_tag": "ABX9TyPxBwKiBISHhPOW383QQaeX",
      "include_colab_link": true
    },
    "kernelspec": {
      "name": "python3",
      "display_name": "Python 3"
    },
    "language_info": {
      "name": "python"
    }
  },
  "cells": [
    {
      "cell_type": "markdown",
      "metadata": {
        "id": "view-in-github",
        "colab_type": "text"
      },
      "source": [
        "<a href=\"https://colab.research.google.com/github/baho99/3408/blob/master/ModularSystem.ipynb\" target=\"_parent\"><img src=\"https://colab.research.google.com/assets/colab-badge.svg\" alt=\"Open In Colab\"/></a>"
      ]
    },
    {
      "cell_type": "code",
      "metadata": {
        "colab": {
          "base_uri": "https://localhost:8080/"
        },
        "id": "aks3j8J_Ot8h",
        "outputId": "3e217041-c379-4330-d2bc-621daeab5fa7"
      },
      "source": [
        "import os, sys, math\n",
        "import numpy as np\n",
        "from matplotlib import pyplot as plt\n",
        "import tensorflow as tf\n",
        "print(\"Tensorflow version \" + tf.__version__)\n",
        "AUTOTUNE = tf.data.AUTOTUNE\n",
        "import torch\n",
        "import torch.nn as nn\n",
        "from torch.utils.data import DataLoader\n",
        "from tensorflow.keras.layers import Input, Conv2D, Concatenate, \\\n",
        "     MaxPool2D, GlobalAvgPool2D, Activation\n",
        "import tensorflow as tf\n",
        "from tensorflow import keras\n",
        "from tensorflow.keras import layers\n",
        "from tensorflow.keras.models import Sequential\n",
        "import time\n",
        "from keras.layers import *\n",
        "from keras.models import *\n",
        "from keras.preprocessing import image\n",
        "from keras import losses\n",
        "from keras.models import Sequential\n",
        "from datetime import datetime\n",
        "from tensorflow.keras.optimizers import RMSprop"
      ],
      "execution_count": 2,
      "outputs": [
        {
          "output_type": "stream",
          "name": "stdout",
          "text": [
            "Tensorflow version 2.7.0\n"
          ]
        }
      ]
    },
    {
      "cell_type": "code",
      "metadata": {
        "colab": {
          "base_uri": "https://localhost:8080/"
        },
        "id": "Aa4v2hWrO3Zf",
        "outputId": "f1cd9756-2e30-47f8-e4ae-92b06f8b6174"
      },
      "source": [
        "try: # detect TPUs\n",
        "  tpu = tf.distribute.cluster_resolver.TPUClusterResolver.connect() # TPU detection\n",
        "  strategy = tf.distribute.TPUStrategy(tpu)\n",
        "except ValueError: # detect GPUs\n",
        "  strategy = tf.distribute.MirroredStrategy() # for GPU or multi-GPU machines\n",
        "  #strategy = tf.distribute.get_strategy() # default strategy that works on CPU and single GPU\n",
        "  #strategy = tf.distribute.experimental.MultiWorkerMirroredStrategy() # for clusters of multi-GPU machines\n",
        "\n",
        "print(\"Number of accelerators: \", strategy.num_replicas_in_sync)"
      ],
      "execution_count": 3,
      "outputs": [
        {
          "output_type": "stream",
          "name": "stdout",
          "text": [
            "WARNING:tensorflow:There are non-GPU devices in `tf.distribute.Strategy`, not using nccl allreduce.\n",
            "INFO:tensorflow:Using MirroredStrategy with devices ('/job:localhost/replica:0/task:0/device:CPU:0',)\n",
            "Number of accelerators:  1\n"
          ]
        }
      ]
    },
    {
      "cell_type": "code",
      "metadata": {
        "id": "CzQmK0ZxPSuf"
      },
      "source": [
        "def squeezenet(input_shape, n_classes):\n",
        "  \n",
        "  def fire(x, fs, fe):\n",
        "    s = Conv2D(fs, 1, activation='relu')(x)\n",
        "    e1 = Conv2D(fe, 1, activation='relu')(s)\n",
        "    e3 = Conv2D(fe, 3, padding='same', activation='relu')(s)\n",
        "    output = Concatenate()([e1, e3])\n",
        "    return output\n",
        "  \n",
        "  \n",
        "  input = Input(input_shape)\n",
        "  \n",
        "  x = Conv2D(96, 7, strides=2, padding='same', activation='relu')(input)\n",
        "  x = MaxPool2D(3, strides=2, padding='same')(x)\n",
        "  \n",
        "  x = fire(x, 16, 64)\n",
        "  x = fire(x, 16, 64)\n",
        "  x = fire(x, 32, 128)\n",
        "  x = MaxPool2D(3, strides=2, padding='same')(x)\n",
        "  \n",
        "  x = fire(x, 32, 128)\n",
        "  x = fire(x, 48, 192)\n",
        "  x = fire(x, 48, 192)\n",
        "  x = fire(x, 64, 256)\n",
        "  x = MaxPool2D(3, strides=2, padding='same')(x)\n",
        "  \n",
        "  x = fire(x, 64, 256)\n",
        "  x = Conv2D(n_classes, 1)(x)\n",
        "  x = GlobalAvgPool2D()(x)\n",
        "  \n",
        "  output = Activation('softmax')(x)\n",
        "  \n",
        "  model = Model(input, output)\n",
        "  return model\n"
      ],
      "execution_count": 4,
      "outputs": []
    },
    {
      "cell_type": "markdown",
      "metadata": {
        "id": "57LcobZCRkqu"
      },
      "source": [
        "Model Implementation"
      ]
    },
    {
      "cell_type": "code",
      "metadata": {
        "id": "HJWV3OibRUSv"
      },
      "source": [
        "def modelImpelementation(N_class):  \n",
        "  model = squeezenet((224,224, 3), N_class)\n",
        "  model.compile(optimizer=keras.optimizers.SGD(learning_rate=momentum, momentum=0.5),\n",
        "              loss=tf.keras.losses.categorical_crossentropy,\n",
        "              metrics=['accuracy'])\n",
        "  train_datagen = image.ImageDataGenerator(\n",
        "    rescale = 1./255,\n",
        "    shear_range = 0.2,\n",
        "    zoom_range=0.2\n",
        ")\n",
        "\n",
        "  return model\n",
        "\n",
        "\n",
        "def TrainingPart(model, Validation_data, training_data):\n",
        "  test_dataset = image.ImageDataGenerator(rescale=1./255)\n",
        "  train_generator = train_datagen.flow_from_directory(training_data,\n",
        "                        target_size=(224,224),\n",
        "                        batch_size=150,\n",
        "                        class_mode='categorical'\n",
        "                        )\n",
        "  validation_generator = test_dataset.flow_from_directory(validation_data,\n",
        "                        target_size=(224,224),\n",
        "                        batch_size=150,\n",
        "                        class_mode='categorical'\n",
        "                        )\n",
        "  hist = model.fit(train_generator,\n",
        "                           steps_per_epoch=128,\n",
        "                           epochs = 50,\n",
        "                           verbose=1,\n",
        "                           validation_data =validation_generator,\n",
        "                           validation_steps=2,\n",
        "                           callbacks=[early_stopping,model_save])\n"
      ],
      "execution_count": 1,
      "outputs": []
    },
    {
      "cell_type": "markdown",
      "metadata": {
        "id": "Eo04w3MuR_4v"
      },
      "source": [
        "Modulation Implementation"
      ]
    },
    {
      "cell_type": "code",
      "metadata": {
        "id": "Dp3WoomkO3qW"
      },
      "source": [
        "def modelFMClassification():\n",
        "  TRAIN_PATH =\"\"\n",
        "  VAL_PATH = \"\"\n",
        "  N_Class = 2\n",
        "  model = modelImpelementation( N_Class)\n",
        "  TrainingPart(model)\n",
        "  return model\n",
        "def modelFSKClassification():\n",
        "  TRAIN_PATH =\"\"\n",
        "  VAL_PATH =  \"\" \n",
        "  N_Class =2\n",
        "  model = modelImpelementation(TRAIN_PATH, VAL_PATH, N_class)\n",
        "  TrainingPart(model)\n",
        "  return model\n",
        "def modelAmClassification():\n",
        "  TRAIN_PATH =\"\"\n",
        "  VAL_PATH =\"\"\n",
        "  N_Class =2\n",
        "  model = modelImpelementation(TRAIN_PATH,VAL_PATH, N_Class)\n",
        "  TrainingPart(model)\n",
        "  return model"
      ],
      "execution_count": null,
      "outputs": []
    },
    {
      "cell_type": "markdown",
      "metadata": {
        "id": "fwhZyMosSFtX"
      },
      "source": [
        "**Waveform Implementation**"
      ]
    },
    {
      "cell_type": "code",
      "metadata": {
        "id": "FUBu925YQAJa"
      },
      "source": [
        "def modelAllClassification():\n",
        "  TRAIN_PATH =\"\"\n",
        "  VAL_PATH = \"\"\n",
        "  N_Class = 2\n",
        "  model = modelImpelementation( N_Class)\n",
        "  TrainingPart(model,TRAIN_PATH, VAL_PATH)\n",
        "  return model\n",
        "def modelExceptClassification():\n",
        "  TRAIN_PATH =\"\"\n",
        "  VAL_PATH = \"\"\n",
        "  N_Class = 3\n",
        "  model = modelImpelementation( N_Class)\n",
        "  TrainingPart(model,TRAIN_PATH, VAL_PATH)\n",
        "  return model\n",
        "\n",
        "def modelFMWaveformClassification():\n",
        "  TRAIN_PATH =\"\"\n",
        "  VAL_PATH = \"\"\n",
        "  N_Class = 3\n",
        "  model = modelImpelementation( N_Class)\n",
        "  TrainingPart(model, TRAIN_PATH, VAL_PATH)\n",
        "  return model\n",
        "def modelFSKWaveformClassification():\n",
        "  TRAIN_PATH =\"\"\n",
        "  VAL_PATH =  \"\" \n",
        "  N_Class =2\n",
        "  model = modelImpelementation(N_Class)\n",
        "  TrainingPart(model, TRAIN_PATH, VAL_PATH)\n",
        "  return model\n",
        "def modelAmWaveformClassification():\n",
        "  TRAIN_PATH =\"\"\n",
        "  VAL_PATH =\"\"\n",
        "  N_Class =2\n",
        "  model = modelImpelementation(N_Class)\n",
        "  TrainingPart(model, TRAIN_PATH,VAL_PATH)\n",
        "  return model"
      ],
      "execution_count": null,
      "outputs": []
    },
    {
      "cell_type": "markdown",
      "metadata": {
        "id": "kDt2UsAgSMQv"
      },
      "source": [
        "**SNR Implementation**"
      ]
    },
    {
      "cell_type": "code",
      "metadata": {
        "id": "82FijlxBSSx-"
      },
      "source": [
        "def modelSNR_Rect_Classification():\n",
        "  TRAIN_PATH = \"\"\n",
        "  VAL_PATH = \"\"\n",
        "  N_Class = 21\n",
        "  model = modelImpelementation(N_class)\n",
        "  TrainingPart(model, training_data, validation_data)\n",
        "  return model\n",
        "def modelSNR_LFM_Classification():\n",
        "  TRAIN_PATH = \"\"\n",
        "  VAL_PATH = \"\"\n",
        "  N_Class = 21\n",
        "  model = modelImpelementation(N_class)\n",
        "  TrainingPart(model, training_data, validation_data)\n",
        "\n",
        "def modelSNR_BFM_Classification():\n",
        "  TRAIN_PATH = \"\"\n",
        "  VAL_PATH = \"\"\n",
        "  N_Class = 21\n",
        "  model = modelImpelementation(N_class)\n",
        "  TrainingPart(model,training_data, validation_data)\n",
        "  return model\n",
        "def modelSNR_GFSK_Classification():\n",
        "  TRAIN_PATH = \"\"\n",
        "  VAL_PATH = \"\"\n",
        "  N_Class = 21\n",
        "  model = modelImpelementation(N_class)\n",
        "  TrainingPart(model,training_data, validation_data)\n",
        "  return model\n",
        "\n",
        "def modelSNR_CPFSK_Classification():\n",
        "  TRAIN_PATH = \"\"\n",
        "  VAL_PATH = \"\"\n",
        "  N_Class = 21\n",
        "  model = modelImpelementation(N_class)\n",
        "  TrainingPart(model,training_data, validation_data)\n",
        "  return model\n",
        "def modelSNR_Barker_Classification():\n",
        "  TRAIN_PATH = \"\"\n",
        "  VAL_PATH = \"\"\n",
        "  N_Class = 21\n",
        "  model = modelImpelementation(N_class)\n",
        "  TrainingPart(model,training_data, validation_data)\n",
        "  return model\n",
        "def modelSNR_DSBAM_Classification():\n",
        "  TRAIN_PATH = \"\"\n",
        "  VAL_PATH = \"\"\n",
        "  N_Class = 21\n",
        "  model = modelImpelementation(N_class)\n",
        "  TrainingPart(model,training_data, validation_data)\n",
        "  return model\n",
        "def modelSNR_SSBAM_Classification():\n",
        "  TRAIN_PATH = \"\"\n",
        "  VAL_PATH = \"\"\n",
        "  N_Class = 21\n",
        "  model = modelImpelementation(N_class)\n",
        "  TrainingPart(model,training_data, validation_data)\n",
        "  return model"
      ],
      "execution_count": null,
      "outputs": []
    },
    {
      "cell_type": "markdown",
      "metadata": {
        "id": "v0QDm_7pgAz7"
      },
      "source": [
        "**Models**"
      ]
    },
    {
      "cell_type": "code",
      "metadata": {
        "id": "iyLa-3fwf_wD"
      },
      "source": [
        "model0 = modelAllClassification()\n",
        "model1 = modelFMClassification()\n",
        "model2 = modelFSKClassification()\n",
        "model3 = modelAmClassification()\n",
        "model4 = modelSNR_Rect_Classification()\n",
        "model5 = modelSNR_LFM_Classification()\n",
        "model6 = modelSNR_BFM_Classification()\n",
        "model7 = modelSNR_GFSK_Classification()\n",
        "model8 = modelSNR_Barker_Classification()\n",
        "model9 = modelSNR_DSBAM_Classification()\n",
        "model10 = modelSNR_SSBAM_Classification()\n",
        "model11 = modelExceptClassification()\n",
        "model12 = modelSNR_CPFSK_Classification()"
      ],
      "execution_count": null,
      "outputs": []
    },
    {
      "cell_type": "markdown",
      "metadata": {
        "id": "rbpZ0EK5STrO"
      },
      "source": [
        "**Main Modular System**"
      ]
    },
    {
      "cell_type": "code",
      "metadata": {
        "id": "ZVG9zlemSY32"
      },
      "source": [
        "RadarData = \"\"\n",
        "labels0 =[\"AM\", \"others\"]\n",
        "predictions = model0.predict(RadarData)\n",
        "y_m0 = labels0[np.argmax(predictions)]\n",
        "if y_pred == \"AM\":\n",
        "  labels3 = [\"DSB-AM\",\"SSB-AM\"]\n",
        "  predictions = model3.predict(RadarData)\n",
        "  y_m3 = labels3[np.argmax(predictions)]\n",
        "\n",
        "  if y_m1 == \"DSB-AM\":\n",
        "    labels9 =[\"p0\",\"p1\",\"p2\",\"p3\", \"p4\", \"p5\", \"p6\", \"p7\", \"p8\", \"p9\", \"p10\", \"p11\", \"p12\", \"p13\", \"p14\", \"p15\", \"p16\", \"p17\", \"p18\", \"p19\", \"p20\"]\n",
        "    predictions = model9.predict(RadarData)\n",
        "    y_m9 = labels9[np.argmax(predictions)]\n",
        "    print(y_m9)\n",
        "  elif y_m1 == \"SSB-AM\":\n",
        "    labels10 =[\"p0\",\"p1\",\"p2\",\"p3\", \"p4\", \"p5\", \"p6\", \"p7\", \"p8\", \"p9\", \"p10\", \"p11\", \"p12\", \"p13\", \"p14\", \"p15\", \"p16\", \"p17\", \"p18\", \"p19\", \"p20\"]\n",
        "    predictions = model10.predict(RadarData)\n",
        "    y_m10 = labels10[np.argmax(predictions)]\n",
        "    print(y_m10)\n",
        "    \n",
        "else:\n",
        "  labels11= [\"FM\", \"FSK\",\"PM\"]\n",
        "  predictions = model11.predict(RadarData)\n",
        "  y_m11 = labels11[np.argmax(predictions)]\n",
        "  if y_m11 ==\"FM\":\n",
        "    labels1 = [\"Rect\", \"L-FM\", \"BFM\"]\n",
        "    predictions = model1.predict(RadarData)\n",
        "    y_m1 = labels1[np.argmax(predictions)]\n",
        "    if y_m1 == \"Rect\":\n",
        "      labels4 = [\"p0\",\"p1\",\"p2\",\"p3\", \"p4\", \"p5\", \"p6\", \"p7\", \"p8\", \"p9\", \"p10\", \"p11\", \"p12\", \"p13\", \"p14\", \"p15\", \"p16\", \"p17\", \"p18\", \"p19\", \"p20\"]\n",
        "      predictions = model4.predict(RadarData)\n",
        "      y_m4 = labels4[np.argmax(predictions)]\n",
        "      print(y_m4)\n",
        "    elif y_m1 == \"L-FM\":\n",
        "      labels5 = [\"p0\",\"p1\",\"p2\",\"p3\", \"p4\", \"p5\", \"p6\", \"p7\", \"p8\", \"p9\", \"p10\", \"p11\", \"p12\", \"p13\", \"p14\", \"p15\", \"p16\", \"p17\", \"p18\", \"p19\", \"p20\"]\n",
        "      predictions = model5.predict(RadarData)\n",
        "      y_m5 = labels5[np.argmax(predictions)]\n",
        "      print(y_m5)\n",
        "      \n",
        "    elif y_m1 == \"BFM\":\n",
        "      labels6 = [\"p0\",\"p1\",\"p2\",\"p3\", \"p4\", \"p5\", \"p6\", \"p7\", \"p8\", \"p9\", \"p10\", \"p11\", \"p12\", \"p13\", \"p14\", \"p15\", \"p16\", \"p17\", \"p18\", \"p19\", \"p20\"]\n",
        "      predictions = model6.predict(RadarData)\n",
        "      y_m6 = labels6[np.argmax(predictions)]\n",
        "      print(y_m6)\n",
        "\n",
        "  elif y_m11 == \"FSK\":\n",
        "    labels2 = [\"GFSK\",\"CPFSK\"]\n",
        "    predictions = model2.predict(RadarData)\n",
        "    y_m2 = labels2[np.argmax(predictions)]\n",
        "    if y_m2==\"GFSK\":\n",
        "      labels7 = [\"p0\",\"p1\",\"p2\",\"p3\", \"p4\", \"p5\", \"p6\", \"p7\", \"p8\", \"p9\", \"p10\", \"p11\", \"p12\", \"p13\", \"p14\", \"p15\", \"p16\", \"p17\", \"p18\", \"p19\", \"p20\"]\n",
        "      predictions = model7.predict(RadarData)\n",
        "      y_m7 = labels7[np.argmax(predictions)]\n",
        "      print(y_m7)\n",
        "\n",
        "    elif y_m2 == \"CPFSK\":\n",
        "      labels12 = [\"p0\",\"p1\",\"p2\",\"p3\", \"p4\", \"p5\", \"p6\", \"p7\", \"p8\", \"p9\", \"p10\", \"p11\", \"p12\", \"p13\", \"p14\", \"p15\", \"p16\", \"p17\", \"p18\", \"p19\", \"p20\"]\n",
        "      predictions = model12.predict(RadarData)\n",
        "      y_m12 = labels12[np.argmax(predictions)]\n",
        "      print(y_m12)\n",
        "\n",
        "  elif y_m11 == \"PM\":\n",
        "      labels8 = [\"p0\",\"p1\",\"p2\",\"p3\", \"p4\", \"p5\", \"p6\", \"p7\", \"p8\", \"p9\", \"p10\", \"p11\", \"p12\", \"p13\", \"p14\", \"p15\", \"p16\", \"p17\", \"p18\", \"p19\", \"p20\"]\n",
        "      predictions = model8.predict(RadarData)\n",
        "      y_m8 = labels8[np.argmax(predictions)]\n",
        "      print(y_m8)\n",
        "   \n"
      ],
      "execution_count": null,
      "outputs": []
    }
  ]
}